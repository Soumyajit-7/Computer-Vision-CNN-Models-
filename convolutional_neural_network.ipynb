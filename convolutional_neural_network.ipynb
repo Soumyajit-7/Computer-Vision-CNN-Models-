{
  "cells": [
    {
      "cell_type": "markdown",
      "metadata": {
        "colab_type": "text",
        "id": "3DR-eO17geWu"
      },
      "source": [
        "# Convolutional Neural Network"
      ]
    },
    {
      "cell_type": "markdown",
      "metadata": {
        "colab_type": "text",
        "id": "EMefrVPCg-60"
      },
      "source": [
        "### Importing the libraries"
      ]
    },
    {
      "cell_type": "code",
      "execution_count": 1,
      "metadata": {
        "colab": {},
        "colab_type": "code",
        "id": "sCV30xyVhFbE"
      },
      "outputs": [],
      "source": [
        "import tensorflow as tf\n",
        "from keras.preprocessing.image import ImageDataGenerator"
      ]
    },
    {
      "cell_type": "code",
      "execution_count": 2,
      "metadata": {
        "colab": {},
        "colab_type": "code",
        "id": "FIleuCAjoFD8"
      },
      "outputs": [
        {
          "data": {
            "text/plain": [
              "'2.13.0'"
            ]
          },
          "execution_count": 2,
          "metadata": {},
          "output_type": "execute_result"
        }
      ],
      "source": [
        "tf.__version__"
      ]
    },
    {
      "cell_type": "markdown",
      "metadata": {
        "colab_type": "text",
        "id": "oxQxCBWyoGPE"
      },
      "source": [
        "## Part 1 - Data Preprocessing"
      ]
    },
    {
      "cell_type": "markdown",
      "metadata": {
        "colab_type": "text",
        "id": "MvE-heJNo3GG"
      },
      "source": [
        "### Preprocessing the Training set"
      ]
    },
    {
      "cell_type": "code",
      "execution_count": 3,
      "metadata": {
        "colab": {},
        "colab_type": "code",
        "id": "0koUcJMJpEBD"
      },
      "outputs": [
        {
          "name": "stdout",
          "output_type": "stream",
          "text": [
            "Found 4374 images belonging to 4 classes.\n"
          ]
        }
      ],
      "source": [
        "train_datagen = ImageDataGenerator(rescale = 1./255,\n",
        "                                   shear_range = 0.2,\n",
        "                                   zoom_range = 0.2,\n",
        "                                   horizontal_flip = True)\n",
        "training_set = train_datagen.flow_from_directory('rawimgs',\n",
        "                                                 target_size = (64, 64),\n",
        "                                                 batch_size = 32,\n",
        "                                                 class_mode = 'categorical',\n",
        "                                                 shuffle=True)"
      ]
    },
    {
      "cell_type": "markdown",
      "metadata": {
        "colab_type": "text",
        "id": "mrCMmGw9pHys"
      },
      "source": [
        "### Preprocessing the Test set"
      ]
    },
    {
      "cell_type": "code",
      "execution_count": 4,
      "metadata": {
        "colab": {},
        "colab_type": "code",
        "id": "SH4WzfOhpKc3"
      },
      "outputs": [
        {
          "name": "stdout",
          "output_type": "stream",
          "text": [
            "Found 446 images belonging to 4 classes.\n"
          ]
        }
      ],
      "source": [
        "test_datagen = ImageDataGenerator(rescale = 1./255)\n",
        "test_set = test_datagen.flow_from_directory('test',\n",
        "                                            target_size = (64, 64),\n",
        "                                            batch_size = 32,\n",
        "                                            class_mode = 'categorical')"
      ]
    },
    {
      "cell_type": "markdown",
      "metadata": {
        "colab_type": "text",
        "id": "af8O4l90gk7B"
      },
      "source": [
        "## Building the CNN"
      ]
    },
    {
      "cell_type": "markdown",
      "metadata": {
        "colab_type": "text",
        "id": "ces1gXY2lmoX"
      },
      "source": [
        "### Initialising the CNN"
      ]
    },
    {
      "cell_type": "code",
      "execution_count": 5,
      "metadata": {
        "colab": {},
        "colab_type": "code",
        "id": "SAUt4UMPlhLS"
      },
      "outputs": [],
      "source": [
        "cnn = tf.keras.models.Sequential()"
      ]
    },
    {
      "cell_type": "markdown",
      "metadata": {
        "colab_type": "text",
        "id": "u5YJj_XMl5LF"
      },
      "source": [
        "### Convolution"
      ]
    },
    {
      "cell_type": "code",
      "execution_count": 6,
      "metadata": {
        "colab": {},
        "colab_type": "code",
        "id": "XPzPrMckl-hV"
      },
      "outputs": [],
      "source": [
        "cnn.add(tf.keras.layers.Conv2D(filters=32, kernel_size=3, activation='relu', input_shape=[64, 64, 3]))"
      ]
    },
    {
      "cell_type": "markdown",
      "metadata": {
        "colab_type": "text",
        "id": "tf87FpvxmNOJ"
      },
      "source": [
        "###  Pooling"
      ]
    },
    {
      "cell_type": "code",
      "execution_count": 7,
      "metadata": {
        "colab": {},
        "colab_type": "code",
        "id": "ncpqPl69mOac"
      },
      "outputs": [],
      "source": [
        "cnn.add(tf.keras.layers.MaxPool2D(pool_size=2, strides=2))"
      ]
    },
    {
      "cell_type": "markdown",
      "metadata": {
        "colab_type": "text",
        "id": "xaTOgD8rm4mU"
      },
      "source": [
        "### Adding a second convolutional layer"
      ]
    },
    {
      "cell_type": "code",
      "execution_count": 8,
      "metadata": {
        "colab": {},
        "colab_type": "code",
        "id": "i_-FZjn_m8gk"
      },
      "outputs": [],
      "source": [
        "cnn.add(tf.keras.layers.Conv2D(filters=32, kernel_size=3, activation='relu'))\n",
        "cnn.add(tf.keras.layers.MaxPool2D(pool_size=2, strides=2))"
      ]
    },
    {
      "cell_type": "markdown",
      "metadata": {
        "colab_type": "text",
        "id": "tmiEuvTunKfk"
      },
      "source": [
        "### Flattening"
      ]
    },
    {
      "cell_type": "code",
      "execution_count": 9,
      "metadata": {
        "colab": {},
        "colab_type": "code",
        "id": "6AZeOGCvnNZn"
      },
      "outputs": [],
      "source": [
        "cnn.add(tf.keras.layers.Flatten())"
      ]
    },
    {
      "cell_type": "markdown",
      "metadata": {
        "colab_type": "text",
        "id": "dAoSECOm203v"
      },
      "source": [
        "### Full Connection"
      ]
    },
    {
      "cell_type": "code",
      "execution_count": 10,
      "metadata": {
        "colab": {},
        "colab_type": "code",
        "id": "8GtmUlLd26Nq"
      },
      "outputs": [],
      "source": [
        "cnn.add(tf.keras.layers.Dense(units=128, activation='relu'))"
      ]
    },
    {
      "cell_type": "markdown",
      "metadata": {
        "colab_type": "text",
        "id": "yTldFvbX28Na"
      },
      "source": [
        "### Output Layer"
      ]
    },
    {
      "cell_type": "code",
      "execution_count": 11,
      "metadata": {
        "colab": {},
        "colab_type": "code",
        "id": "1p_Zj1Mc3Ko_"
      },
      "outputs": [],
      "source": [
        "cnn.add(tf.keras.layers.Dense(units=4, activation='softmax'))"
      ]
    },
    {
      "cell_type": "markdown",
      "metadata": {
        "colab_type": "text",
        "id": "D6XkI90snSDl"
      },
      "source": [
        "## Training the CNN"
      ]
    },
    {
      "cell_type": "markdown",
      "metadata": {
        "colab_type": "text",
        "id": "vfrFQACEnc6i"
      },
      "source": [
        "### Compiling the CNN"
      ]
    },
    {
      "cell_type": "code",
      "execution_count": 12,
      "metadata": {
        "colab": {},
        "colab_type": "code",
        "id": "NALksrNQpUlJ"
      },
      "outputs": [],
      "source": [
        "\n",
        "cnn.compile(optimizer='adam', loss='categorical_crossentropy', metrics=['accuracy'])\n"
      ]
    },
    {
      "cell_type": "markdown",
      "metadata": {
        "colab_type": "text",
        "id": "ehS-v3MIpX2h"
      },
      "source": [
        "### Training the CNN on the Training set and evaluating it on the Test set"
      ]
    },
    {
      "cell_type": "code",
      "execution_count": 13,
      "metadata": {
        "colab": {},
        "colab_type": "code",
        "id": "XUj1W4PJptta"
      },
      "outputs": [
        {
          "name": "stdout",
          "output_type": "stream",
          "text": [
            "Epoch 1/25\n",
            "137/137 [==============================] - 37s 266ms/step - loss: 1.2701 - accuracy: 0.4060 - val_loss: 1.2397 - val_accuracy: 0.4462\n",
            "Epoch 2/25\n",
            "137/137 [==============================] - 33s 242ms/step - loss: 1.0188 - accuracy: 0.5800 - val_loss: 1.1951 - val_accuracy: 0.5404\n",
            "Epoch 3/25\n",
            "137/137 [==============================] - 33s 240ms/step - loss: 0.8940 - accuracy: 0.6317 - val_loss: 0.8814 - val_accuracy: 0.6435\n",
            "Epoch 4/25\n",
            "137/137 [==============================] - 35s 252ms/step - loss: 0.7868 - accuracy: 0.6861 - val_loss: 0.8776 - val_accuracy: 0.6368\n",
            "Epoch 5/25\n",
            "137/137 [==============================] - 33s 244ms/step - loss: 0.7149 - accuracy: 0.7222 - val_loss: 1.0638 - val_accuracy: 0.6121\n",
            "Epoch 6/25\n",
            "137/137 [==============================] - 33s 240ms/step - loss: 0.6628 - accuracy: 0.7403 - val_loss: 1.2058 - val_accuracy: 0.5830\n",
            "Epoch 7/25\n",
            "137/137 [==============================] - 39s 285ms/step - loss: 0.6099 - accuracy: 0.7693 - val_loss: 1.2977 - val_accuracy: 0.6009\n",
            "Epoch 8/25\n",
            "137/137 [==============================] - 38s 278ms/step - loss: 0.5641 - accuracy: 0.7933 - val_loss: 1.1018 - val_accuracy: 0.5381\n",
            "Epoch 9/25\n",
            "137/137 [==============================] - 35s 259ms/step - loss: 0.5449 - accuracy: 0.7977 - val_loss: 0.6182 - val_accuracy: 0.7377\n",
            "Epoch 10/25\n",
            "137/137 [==============================] - 35s 253ms/step - loss: 0.4721 - accuracy: 0.8219 - val_loss: 1.0177 - val_accuracy: 0.6009\n",
            "Epoch 11/25\n",
            "137/137 [==============================] - 34s 247ms/step - loss: 0.4117 - accuracy: 0.8519 - val_loss: 0.8767 - val_accuracy: 0.6973\n",
            "Epoch 12/25\n",
            "137/137 [==============================] - 34s 250ms/step - loss: 0.3719 - accuracy: 0.8683 - val_loss: 1.3005 - val_accuracy: 0.5605\n",
            "Epoch 13/25\n",
            "137/137 [==============================] - 34s 251ms/step - loss: 0.3767 - accuracy: 0.8628 - val_loss: 1.3901 - val_accuracy: 0.5987\n",
            "Epoch 14/25\n",
            "137/137 [==============================] - 36s 260ms/step - loss: 0.3425 - accuracy: 0.8756 - val_loss: 0.8448 - val_accuracy: 0.7332\n",
            "Epoch 15/25\n",
            "137/137 [==============================] - 36s 263ms/step - loss: 0.2991 - accuracy: 0.8946 - val_loss: 1.2773 - val_accuracy: 0.5785\n",
            "Epoch 16/25\n",
            "137/137 [==============================] - 34s 249ms/step - loss: 0.2848 - accuracy: 0.8985 - val_loss: 0.7642 - val_accuracy: 0.7511\n",
            "Epoch 17/25\n",
            "137/137 [==============================] - 37s 273ms/step - loss: 0.2660 - accuracy: 0.9070 - val_loss: 1.2198 - val_accuracy: 0.6480\n",
            "Epoch 18/25\n",
            "137/137 [==============================] - 34s 245ms/step - loss: 0.2409 - accuracy: 0.9150 - val_loss: 1.0606 - val_accuracy: 0.7040\n",
            "Epoch 19/25\n",
            "137/137 [==============================] - 33s 239ms/step - loss: 0.2348 - accuracy: 0.9191 - val_loss: 1.2618 - val_accuracy: 0.6413\n",
            "Epoch 20/25\n",
            "137/137 [==============================] - 33s 239ms/step - loss: 0.2088 - accuracy: 0.9230 - val_loss: 0.8162 - val_accuracy: 0.7220\n",
            "Epoch 21/25\n",
            "137/137 [==============================] - 34s 246ms/step - loss: 0.1856 - accuracy: 0.9328 - val_loss: 1.2122 - val_accuracy: 0.6861\n",
            "Epoch 22/25\n",
            "137/137 [==============================] - 34s 250ms/step - loss: 0.1803 - accuracy: 0.9378 - val_loss: 0.7546 - val_accuracy: 0.7556\n",
            "Epoch 23/25\n",
            "137/137 [==============================] - 36s 265ms/step - loss: 0.1752 - accuracy: 0.9399 - val_loss: 0.9052 - val_accuracy: 0.7018\n",
            "Epoch 24/25\n",
            "137/137 [==============================] - 35s 254ms/step - loss: 0.1643 - accuracy: 0.9428 - val_loss: 1.6150 - val_accuracy: 0.5785\n",
            "Epoch 25/25\n",
            "137/137 [==============================] - 35s 254ms/step - loss: 0.1488 - accuracy: 0.9442 - val_loss: 1.0763 - val_accuracy: 0.7018\n"
          ]
        },
        {
          "data": {
            "text/plain": [
              "<keras.src.callbacks.History at 0x1df53b81ba0>"
            ]
          },
          "execution_count": 13,
          "metadata": {},
          "output_type": "execute_result"
        }
      ],
      "source": [
        "cnn.fit(x = training_set, validation_data = test_set, epochs = 25)"
      ]
    },
    {
      "cell_type": "markdown",
      "metadata": {
        "colab_type": "text",
        "id": "U3PZasO0006Z"
      },
      "source": [
        "##  Making a single prediction"
      ]
    },
    {
      "cell_type": "code",
      "execution_count": 14,
      "metadata": {
        "colab": {},
        "colab_type": "code",
        "id": "gsSiWEJY1BPB"
      },
      "outputs": [
        {
          "name": "stdout",
          "output_type": "stream",
          "text": [
            "1/1 [==============================] - 0s 117ms/step\n",
            "Predicted class label: Glass\n"
          ]
        }
      ],
      "source": [
        "import numpy as np\n",
        "from tensorflow.keras.preprocessing import image\n",
        "\n",
        "# Load the image you want to make a prediction on\n",
        "test_image = image.load_img('photo-1644334978193-9ebf4ba2b604.jpeg', target_size=(64, 64))\n",
        "\n",
        "# Preprocess the image\n",
        "test_image = image.img_to_array(test_image)\n",
        "test_image = np.expand_dims(test_image, axis=0)\n",
        "test_image = test_image / 255.0  \n",
        "\n",
        "# Make a prediction\n",
        "predictions = cnn.predict(test_image)\n",
        "\n",
        "# Map the class index with the highest probability to the corresponding class label\n",
        "predicted_class_index = np.argmax(predictions, axis=1)\n",
        "class_indices = training_set.class_indices  # Assuming you have the class indices from your training data\n",
        "predicted_class_label = list(class_indices.keys())[predicted_class_index[0]]\n",
        "\n",
        "print(\"Predicted class label:\", predicted_class_label)\n"
      ]
    }
  ],
  "metadata": {
    "colab": {
      "collapsed_sections": [],
      "name": "convolutional_neural_network.ipynb",
      "provenance": [],
      "toc_visible": true
    },
    "kernelspec": {
      "display_name": "Python 3",
      "name": "python3"
    },
    "language_info": {
      "codemirror_mode": {
        "name": "ipython",
        "version": 3
      },
      "file_extension": ".py",
      "mimetype": "text/x-python",
      "name": "python",
      "nbconvert_exporter": "python",
      "pygments_lexer": "ipython3",
      "version": "3.10.5"
    }
  },
  "nbformat": 4,
  "nbformat_minor": 0
}
